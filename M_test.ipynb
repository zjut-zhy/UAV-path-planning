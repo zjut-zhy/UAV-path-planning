{
 "cells": [
  {
   "cell_type": "code",
   "execution_count": 3,
   "id": "0189d9f2",
   "metadata": {},
   "outputs": [],
   "source": [
    "import sys\n",
    "sys.path.append('Multi-UAVs path planning/path planning')"
   ]
  },
  {
   "cell_type": "code",
   "execution_count": 4,
   "id": "2ba7d180",
   "metadata": {},
   "outputs": [
    {
     "name": "stderr",
     "output_type": "stream",
     "text": [
      "Gym has been unmaintained since 2022 and does not support NumPy 2.0 amongst other critical functionality.\n",
      "Please upgrade to Gymnasium, the maintained drop-in replacement of Gym, or contact the authors of your software and request that they upgrade.\n",
      "Users of this version of Gym should be able to simply replace 'import gym' with 'import gymnasium as gym' in the vast majority of cases.\n",
      "See the migration guide at https://gymnasium.farama.org/introduction/migration_guide/ for additional information.\n",
      "/opt/miniconda3/lib/python3.12/site-packages/gym/spaces/box.py:127: UserWarning: \u001b[33mWARN: Box bound precision lowered by casting to float32\u001b[0m\n",
      "  logger.warn(f\"Box bound precision lowered by casting to {self.dtype}\")\n"
     ]
    },
    {
     "name": "stdout",
     "output_type": "stream",
     "text": [
      "随机测试中...\n"
     ]
    },
    {
     "name": "stderr",
     "output_type": "stream",
     "text": [
      "/Users/zhy/Documents/GitHub/UAV-path-planning/Multi-UAVs path planning/path planning/rl_env/path_env.py:234: SyntaxWarning: invalid decimal literal\n",
      "  if 0 < dis_1_agent_0_to_1 < 50 and dis_1_agent_0_to_2<50 and dis_1_agent_0_to_3<50and dis_1_agent_0_to_4<50:\n"
     ]
    },
    {
     "ename": "NameError",
     "evalue": "name 'quit' is not defined",
     "output_type": "error",
     "traceback": [
      "\u001b[31m---------------------------------------------------------------------------\u001b[39m",
      "\u001b[31mNameError\u001b[39m                                 Traceback (most recent call last)",
      "\u001b[36mCell\u001b[39m\u001b[36m \u001b[39m\u001b[32mIn[4]\u001b[39m\u001b[32m, line 93\u001b[39m\n\u001b[32m     90\u001b[39m     env.close()\n\u001b[32m     92\u001b[39m \u001b[38;5;28;01mif\u001b[39;00m \u001b[34m__name__\u001b[39m == \u001b[33m'\u001b[39m\u001b[33m__main__\u001b[39m\u001b[33m'\u001b[39m:\n\u001b[32m---> \u001b[39m\u001b[32m93\u001b[39m     \u001b[43mmain\u001b[49m\u001b[43m(\u001b[49m\u001b[43m)\u001b[49m\n",
      "\u001b[36mCell\u001b[39m\u001b[36m \u001b[39m\u001b[32mIn[4]\u001b[39m\u001b[32m, line 30\u001b[39m, in \u001b[36mmain\u001b[39m\u001b[34m()\u001b[39m\n\u001b[32m     29\u001b[39m \u001b[38;5;28;01mdef\u001b[39;00m\u001b[38;5;250m \u001b[39m\u001b[34mmain\u001b[39m():\n\u001b[32m---> \u001b[39m\u001b[32m30\u001b[39m     \u001b[43mrun\u001b[49m\u001b[43m(\u001b[49m\u001b[43menv\u001b[49m\u001b[43m)\u001b[49m\n",
      "\u001b[36mCell\u001b[39m\u001b[36m \u001b[39m\u001b[32mIn[4]\u001b[39m\u001b[32m, line 61\u001b[39m, in \u001b[36mrun\u001b[39m\u001b[34m(env)\u001b[39m\n\u001b[32m     59\u001b[39m state = new_state\n\u001b[32m     60\u001b[39m \u001b[38;5;28;01mif\u001b[39;00m RENDER:\n\u001b[32m---> \u001b[39m\u001b[32m61\u001b[39m     \u001b[43menv\u001b[49m\u001b[43m.\u001b[49m\u001b[43mrender\u001b[49m\u001b[43m(\u001b[49m\u001b[43m)\u001b[49m\n\u001b[32m     62\u001b[39m \u001b[38;5;28;01mif\u001b[39;00m done:\n\u001b[32m     63\u001b[39m     \u001b[38;5;28;01mbreak\u001b[39;00m\n",
      "\u001b[36mFile \u001b[39m\u001b[32m~/Documents/GitHub/UAV-path-planning/Multi-UAVs path planning/path planning/rl_env/path_env.py:320\u001b[39m, in \u001b[36mRlGame.render\u001b[39m\u001b[34m(self)\u001b[39m\n\u001b[32m    318\u001b[39m \u001b[38;5;28;01mif\u001b[39;00m event.type == pygame.QUIT:\n\u001b[32m    319\u001b[39m     pygame.display.quit()\n\u001b[32m--> \u001b[39m\u001b[32m320\u001b[39m     \u001b[43mquit\u001b[49m()\n\u001b[32m    321\u001b[39m \u001b[38;5;28;01melif\u001b[39;00m event.type == pygame.MOUSEMOTION:\n\u001b[32m    322\u001b[39m     \u001b[38;5;28mself\u001b[39m.mouse_pos = pygame.mouse.get_pos()\n",
      "\u001b[31mNameError\u001b[39m: name 'quit' is not defined"
     ]
    }
   ],
   "source": [
    "# -*- coding: utf-8 -*-\n",
    "#开发者：Bright Fang\n",
    "#开发时间：2023/7/30 18:13\n",
    "from rl_env.path_env import RlGame\n",
    "# import pygame\n",
    "# from assignment import constants as C\n",
    "import torch\n",
    "import torch.nn as nn\n",
    "import torch.nn.functional as F\n",
    "import numpy as np\n",
    "from matplotlib import pyplot as plt\n",
    "import os\n",
    "import pickle as pkl\n",
    "shoplistfile_test = 'path planning/sample_compare'  #保存文件数据所在文件的文件名\n",
    "os.environ['KMP_DUPLICATE_LIB_OK'] = 'TRUE'\n",
    "N_Agent=1\n",
    "M_Enemy=4\n",
    "RENDER=True\n",
    "TRAIN_NUM = 1\n",
    "TEST_EPIOSDE=100\n",
    "env = RlGame(n=N_Agent,m=M_Enemy,render=RENDER).unwrapped\n",
    "state_number=7\n",
    "action_number=env.action_space.shape[0]\n",
    "max_action = env.action_space.high[0]\n",
    "min_action = env.action_space.low[0]\n",
    "EP_MAX = 500\n",
    "EP_LEN = 1000\n",
    "\n",
    "def main():\n",
    "    run(env)\n",
    "def run(env):\n",
    "    print('随机测试中...')\n",
    "    action = np.zeros((N_Agent+M_Enemy, action_number))\n",
    "    win_times = 0\n",
    "    average_FKR=0\n",
    "    average_timestep=0\n",
    "    average_integral_V=0\n",
    "    average_integral_U= 0\n",
    "    all_ep_V,all_ep_U,all_ep_T,all_ep_F=[],[],[],[]\n",
    "    for j in range(TEST_EPIOSDE):\n",
    "        state = env.reset()\n",
    "        total_rewards = 0\n",
    "        integral_V=0\n",
    "        integral_U=0\n",
    "        v,v1=[],[]\n",
    "        for timestep in range(EP_LEN):\n",
    "            for i in range(N_Agent+M_Enemy):\n",
    "                action[i] = env.action_space.sample()\n",
    "            # action[0] = aa.choose_action(state[0])\n",
    "            # action[1] = bb.choose_action(state[1])\n",
    "            new_state, reward,done,win,team_counter,d = env.step(action)  # 执行动作\n",
    "            if win:\n",
    "                win_times += 1\n",
    "            v.append(state[0][2])\n",
    "            v1.append(state[1][2])\n",
    "            integral_V+=state[0][2]\n",
    "            integral_U+=abs(action[0]).sum()\n",
    "            total_rewards += reward.mean()\n",
    "            state = new_state\n",
    "            if RENDER:\n",
    "                env.render()\n",
    "            if done:\n",
    "                break\n",
    "        FKR=team_counter/timestep\n",
    "        average_FKR += FKR\n",
    "        average_timestep += timestep\n",
    "        average_integral_V += integral_V\n",
    "        average_integral_U += integral_U\n",
    "        print(\"Score\", total_rewards)\n",
    "        all_ep_V.append(integral_V)\n",
    "        all_ep_U.append(integral_U)\n",
    "        all_ep_T.append(timestep)\n",
    "        all_ep_F.append(FKR)\n",
    "        # print('最大编队保持率',FKR)\n",
    "        # print('最短飞行时间',timestep)\n",
    "        # print('最短飞行路程', integral_V)\n",
    "        # print('最小能量损耗', integral_U)\n",
    "        # plt.plot(np.arange(len(v)), v)\n",
    "        # plt.plot(np.arange(len(v1)), v1)\n",
    "        # plt.show()\n",
    "    print('任务完成率',win_times / TEST_EPIOSDE)\n",
    "    print('平均最大编队保持率', average_FKR/TEST_EPIOSDE)\n",
    "    print('平均最短飞行时间', average_timestep/TEST_EPIOSDE)\n",
    "    print('平均最短飞行路程', average_integral_V/TEST_EPIOSDE)\n",
    "    print('平均最小能量损耗', average_integral_U/TEST_EPIOSDE)\n",
    "    # d = {\"all_ep_V\": all_ep_V,\"all_ep_U\": all_ep_U,\"all_ep_T\": all_ep_T,\"all_ep_F\": all_ep_F,}\n",
    "    # f = open(shoplistfile_test, 'wb')  # 二进制打开，如果找不到该文件，则创建一个\n",
    "    # pkl.dump(d, f, pkl.HIGHEST_PROTOCOL)  # 写入文件\n",
    "    # f.close()\n",
    "    env.close()\n",
    "\n",
    "if __name__ == '__main__':\n",
    "    main()"
   ]
  },
  {
   "cell_type": "code",
   "execution_count": null,
   "id": "07382470",
   "metadata": {},
   "outputs": [],
   "source": []
  }
 ],
 "metadata": {
  "kernelspec": {
   "display_name": "base",
   "language": "python",
   "name": "python3"
  },
  "language_info": {
   "codemirror_mode": {
    "name": "ipython",
    "version": 3
   },
   "file_extension": ".py",
   "mimetype": "text/x-python",
   "name": "python",
   "nbconvert_exporter": "python",
   "pygments_lexer": "ipython3",
   "version": "3.12.11"
  }
 },
 "nbformat": 4,
 "nbformat_minor": 5
}
